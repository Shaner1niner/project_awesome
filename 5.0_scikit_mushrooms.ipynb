{
 "cells": [
  {
   "cell_type": "markdown",
   "id": "f30141c2",
   "metadata": {},
   "source": [
    "# Overview"
   ]
  },
  {
   "cell_type": "markdown",
   "id": "2477c6a8",
   "metadata": {},
   "source": [
    "We will attempt to create a filter that can distinguish between edible and poisonous mushrooms based on some easily observable characteristics. We discuss briefly in the summary how the model could be adjusted to benefit both individuals or further adjusted for use on an industrial scale."
   ]
  },
  {
   "cell_type": "markdown",
   "id": "36ac8072",
   "metadata": {},
   "source": [
    "This dataset is a cleaned version of the original Mushroom Dataset for Binary Classification Available at UCI Library. This dataset was cleaned using various techniques such as Modal imputation, one-hot encoding, z-score normalization, and feature selection. It contains 9 columns:\n",
    "\n",
    "- Cap Diameter\n",
    "- Cap Shape\n",
    "- Gill Attachment\n",
    "- Gill Color\n",
    "- Stem Height\n",
    "- Stem Width\n",
    "- Stem Color\n",
    "- Season\n",
    "- Class - Is it edible or not?\n",
    "\n",
    "#### Our variable of interest, the Class variable is either 0 or 1 - where 0 refers to edible and 1 refers to poisonous."
   ]
  },
  {
   "cell_type": "code",
   "execution_count": 1,
   "id": "c9a9fb38",
   "metadata": {},
   "outputs": [],
   "source": [
    "import pandas as pd\n",
    "\n",
    "mush_data = \"mushroom_cleaned.csv\"\n",
    "\n",
    "mush_df = pd.read_csv(mush_data)"
   ]
  },
  {
   "cell_type": "code",
   "execution_count": 2,
   "id": "2be2abab",
   "metadata": {},
   "outputs": [
    {
     "data": {
      "text/html": [
       "<div>\n",
       "<style scoped>\n",
       "    .dataframe tbody tr th:only-of-type {\n",
       "        vertical-align: middle;\n",
       "    }\n",
       "\n",
       "    .dataframe tbody tr th {\n",
       "        vertical-align: top;\n",
       "    }\n",
       "\n",
       "    .dataframe thead th {\n",
       "        text-align: right;\n",
       "    }\n",
       "</style>\n",
       "<table border=\"1\" class=\"dataframe\">\n",
       "  <thead>\n",
       "    <tr style=\"text-align: right;\">\n",
       "      <th></th>\n",
       "      <th>cap-diameter</th>\n",
       "      <th>cap-shape</th>\n",
       "      <th>gill-attachment</th>\n",
       "      <th>gill-color</th>\n",
       "      <th>stem-height</th>\n",
       "      <th>stem-width</th>\n",
       "      <th>stem-color</th>\n",
       "      <th>season</th>\n",
       "      <th>class</th>\n",
       "    </tr>\n",
       "  </thead>\n",
       "  <tbody>\n",
       "    <tr>\n",
       "      <th>0</th>\n",
       "      <td>1372</td>\n",
       "      <td>2</td>\n",
       "      <td>2</td>\n",
       "      <td>10</td>\n",
       "      <td>3.807467</td>\n",
       "      <td>1545</td>\n",
       "      <td>11</td>\n",
       "      <td>1.804273</td>\n",
       "      <td>1</td>\n",
       "    </tr>\n",
       "    <tr>\n",
       "      <th>1</th>\n",
       "      <td>1461</td>\n",
       "      <td>2</td>\n",
       "      <td>2</td>\n",
       "      <td>10</td>\n",
       "      <td>3.807467</td>\n",
       "      <td>1557</td>\n",
       "      <td>11</td>\n",
       "      <td>1.804273</td>\n",
       "      <td>1</td>\n",
       "    </tr>\n",
       "    <tr>\n",
       "      <th>2</th>\n",
       "      <td>1371</td>\n",
       "      <td>2</td>\n",
       "      <td>2</td>\n",
       "      <td>10</td>\n",
       "      <td>3.612496</td>\n",
       "      <td>1566</td>\n",
       "      <td>11</td>\n",
       "      <td>1.804273</td>\n",
       "      <td>1</td>\n",
       "    </tr>\n",
       "    <tr>\n",
       "      <th>3</th>\n",
       "      <td>1261</td>\n",
       "      <td>6</td>\n",
       "      <td>2</td>\n",
       "      <td>10</td>\n",
       "      <td>3.787572</td>\n",
       "      <td>1566</td>\n",
       "      <td>11</td>\n",
       "      <td>1.804273</td>\n",
       "      <td>1</td>\n",
       "    </tr>\n",
       "    <tr>\n",
       "      <th>4</th>\n",
       "      <td>1305</td>\n",
       "      <td>6</td>\n",
       "      <td>2</td>\n",
       "      <td>10</td>\n",
       "      <td>3.711971</td>\n",
       "      <td>1464</td>\n",
       "      <td>11</td>\n",
       "      <td>0.943195</td>\n",
       "      <td>1</td>\n",
       "    </tr>\n",
       "    <tr>\n",
       "      <th>...</th>\n",
       "      <td>...</td>\n",
       "      <td>...</td>\n",
       "      <td>...</td>\n",
       "      <td>...</td>\n",
       "      <td>...</td>\n",
       "      <td>...</td>\n",
       "      <td>...</td>\n",
       "      <td>...</td>\n",
       "      <td>...</td>\n",
       "    </tr>\n",
       "    <tr>\n",
       "      <th>54030</th>\n",
       "      <td>73</td>\n",
       "      <td>5</td>\n",
       "      <td>3</td>\n",
       "      <td>2</td>\n",
       "      <td>0.887740</td>\n",
       "      <td>569</td>\n",
       "      <td>12</td>\n",
       "      <td>0.943195</td>\n",
       "      <td>1</td>\n",
       "    </tr>\n",
       "    <tr>\n",
       "      <th>54031</th>\n",
       "      <td>82</td>\n",
       "      <td>2</td>\n",
       "      <td>3</td>\n",
       "      <td>2</td>\n",
       "      <td>1.186164</td>\n",
       "      <td>490</td>\n",
       "      <td>12</td>\n",
       "      <td>0.943195</td>\n",
       "      <td>1</td>\n",
       "    </tr>\n",
       "    <tr>\n",
       "      <th>54032</th>\n",
       "      <td>82</td>\n",
       "      <td>5</td>\n",
       "      <td>3</td>\n",
       "      <td>2</td>\n",
       "      <td>0.915593</td>\n",
       "      <td>584</td>\n",
       "      <td>12</td>\n",
       "      <td>0.888450</td>\n",
       "      <td>1</td>\n",
       "    </tr>\n",
       "    <tr>\n",
       "      <th>54033</th>\n",
       "      <td>79</td>\n",
       "      <td>2</td>\n",
       "      <td>3</td>\n",
       "      <td>2</td>\n",
       "      <td>1.034963</td>\n",
       "      <td>491</td>\n",
       "      <td>12</td>\n",
       "      <td>0.888450</td>\n",
       "      <td>1</td>\n",
       "    </tr>\n",
       "    <tr>\n",
       "      <th>54034</th>\n",
       "      <td>72</td>\n",
       "      <td>5</td>\n",
       "      <td>3</td>\n",
       "      <td>2</td>\n",
       "      <td>1.158311</td>\n",
       "      <td>492</td>\n",
       "      <td>12</td>\n",
       "      <td>0.888450</td>\n",
       "      <td>1</td>\n",
       "    </tr>\n",
       "  </tbody>\n",
       "</table>\n",
       "<p>54035 rows × 9 columns</p>\n",
       "</div>"
      ],
      "text/plain": [
       "       cap-diameter  cap-shape  gill-attachment  gill-color  stem-height  \\\n",
       "0              1372          2                2          10     3.807467   \n",
       "1              1461          2                2          10     3.807467   \n",
       "2              1371          2                2          10     3.612496   \n",
       "3              1261          6                2          10     3.787572   \n",
       "4              1305          6                2          10     3.711971   \n",
       "...             ...        ...              ...         ...          ...   \n",
       "54030            73          5                3           2     0.887740   \n",
       "54031            82          2                3           2     1.186164   \n",
       "54032            82          5                3           2     0.915593   \n",
       "54033            79          2                3           2     1.034963   \n",
       "54034            72          5                3           2     1.158311   \n",
       "\n",
       "       stem-width  stem-color    season  class  \n",
       "0            1545          11  1.804273      1  \n",
       "1            1557          11  1.804273      1  \n",
       "2            1566          11  1.804273      1  \n",
       "3            1566          11  1.804273      1  \n",
       "4            1464          11  0.943195      1  \n",
       "...           ...         ...       ...    ...  \n",
       "54030         569          12  0.943195      1  \n",
       "54031         490          12  0.943195      1  \n",
       "54032         584          12  0.888450      1  \n",
       "54033         491          12  0.888450      1  \n",
       "54034         492          12  0.888450      1  \n",
       "\n",
       "[54035 rows x 9 columns]"
      ]
     },
     "execution_count": 2,
     "metadata": {},
     "output_type": "execute_result"
    }
   ],
   "source": [
    "mush_df"
   ]
  },
  {
   "cell_type": "code",
   "execution_count": 3,
   "id": "3427310b",
   "metadata": {},
   "outputs": [
    {
     "name": "stdout",
     "output_type": "stream",
     "text": [
      "<class 'pandas.core.frame.DataFrame'>\n",
      "RangeIndex: 54035 entries, 0 to 54034\n",
      "Data columns (total 9 columns):\n",
      " #   Column           Non-Null Count  Dtype  \n",
      "---  ------           --------------  -----  \n",
      " 0   cap-diameter     54035 non-null  int64  \n",
      " 1   cap-shape        54035 non-null  int64  \n",
      " 2   gill-attachment  54035 non-null  int64  \n",
      " 3   gill-color       54035 non-null  int64  \n",
      " 4   stem-height      54035 non-null  float64\n",
      " 5   stem-width       54035 non-null  int64  \n",
      " 6   stem-color       54035 non-null  int64  \n",
      " 7   season           54035 non-null  float64\n",
      " 8   class            54035 non-null  int64  \n",
      "dtypes: float64(2), int64(7)\n",
      "memory usage: 3.7 MB\n"
     ]
    }
   ],
   "source": [
    "mush_df.info()"
   ]
  },
  {
   "cell_type": "code",
   "execution_count": 4,
   "id": "b54c17ec",
   "metadata": {},
   "outputs": [],
   "source": [
    "from sklearn.model_selection import train_test_split\n",
    "\n",
    "# to create a new series composed of our targets\n",
    "labels = mush_df['class']\n",
    "\n",
    "# to drop our target column and resave without the target column\n",
    "features = mush_df.drop('class', axis = 1)\n",
    "\n",
    "# create a training and a test set\n",
    "X_train, X_test, y_train, y_test = train_test_split(features, labels,  test_size=0.2, random_state=42)\n",
    "\n",
    "attributes = ['cap-diameter', 'cap-shape', 'gill-attachment', 'gill-color', 'stem-height', 'stem-width', 'stem-color', 'season'\n",
    "]"
   ]
  },
  {
   "cell_type": "code",
   "execution_count": 5,
   "id": "3dcb0a21",
   "metadata": {},
   "outputs": [
    {
     "data": {
      "text/html": [
       "<div>\n",
       "<style scoped>\n",
       "    .dataframe tbody tr th:only-of-type {\n",
       "        vertical-align: middle;\n",
       "    }\n",
       "\n",
       "    .dataframe tbody tr th {\n",
       "        vertical-align: top;\n",
       "    }\n",
       "\n",
       "    .dataframe thead th {\n",
       "        text-align: right;\n",
       "    }\n",
       "</style>\n",
       "<table border=\"1\" class=\"dataframe\">\n",
       "  <thead>\n",
       "    <tr style=\"text-align: right;\">\n",
       "      <th></th>\n",
       "      <th>cap-diameter</th>\n",
       "      <th>cap-shape</th>\n",
       "      <th>gill-attachment</th>\n",
       "      <th>gill-color</th>\n",
       "      <th>stem-height</th>\n",
       "      <th>stem-width</th>\n",
       "      <th>stem-color</th>\n",
       "      <th>season</th>\n",
       "    </tr>\n",
       "  </thead>\n",
       "  <tbody>\n",
       "    <tr>\n",
       "      <th>count</th>\n",
       "      <td>43228.000000</td>\n",
       "      <td>43228.000000</td>\n",
       "      <td>43228.000000</td>\n",
       "      <td>43228.000000</td>\n",
       "      <td>43228.000000</td>\n",
       "      <td>43228.000000</td>\n",
       "      <td>43228.000000</td>\n",
       "      <td>43228.000000</td>\n",
       "    </tr>\n",
       "    <tr>\n",
       "      <th>mean</th>\n",
       "      <td>567.675442</td>\n",
       "      <td>3.994795</td>\n",
       "      <td>2.138267</td>\n",
       "      <td>7.324859</td>\n",
       "      <td>0.759497</td>\n",
       "      <td>1052.557116</td>\n",
       "      <td>8.420561</td>\n",
       "      <td>0.951277</td>\n",
       "    </tr>\n",
       "    <tr>\n",
       "      <th>std</th>\n",
       "      <td>360.584357</td>\n",
       "      <td>2.162429</td>\n",
       "      <td>2.228573</td>\n",
       "      <td>3.201606</td>\n",
       "      <td>0.652320</td>\n",
       "      <td>783.231965</td>\n",
       "      <td>3.261763</td>\n",
       "      <td>0.304490</td>\n",
       "    </tr>\n",
       "    <tr>\n",
       "      <th>min</th>\n",
       "      <td>0.000000</td>\n",
       "      <td>0.000000</td>\n",
       "      <td>0.000000</td>\n",
       "      <td>0.000000</td>\n",
       "      <td>0.000426</td>\n",
       "      <td>0.000000</td>\n",
       "      <td>0.000000</td>\n",
       "      <td>0.027372</td>\n",
       "    </tr>\n",
       "    <tr>\n",
       "      <th>25%</th>\n",
       "      <td>289.000000</td>\n",
       "      <td>2.000000</td>\n",
       "      <td>0.000000</td>\n",
       "      <td>5.000000</td>\n",
       "      <td>0.270997</td>\n",
       "      <td>421.000000</td>\n",
       "      <td>6.000000</td>\n",
       "      <td>0.888450</td>\n",
       "    </tr>\n",
       "    <tr>\n",
       "      <th>50%</th>\n",
       "      <td>526.000000</td>\n",
       "      <td>5.000000</td>\n",
       "      <td>1.000000</td>\n",
       "      <td>7.000000</td>\n",
       "      <td>0.593295</td>\n",
       "      <td>925.000000</td>\n",
       "      <td>11.000000</td>\n",
       "      <td>0.943195</td>\n",
       "    </tr>\n",
       "    <tr>\n",
       "      <th>75%</th>\n",
       "      <td>782.000000</td>\n",
       "      <td>6.000000</td>\n",
       "      <td>4.000000</td>\n",
       "      <td>10.000000</td>\n",
       "      <td>1.054858</td>\n",
       "      <td>1527.000000</td>\n",
       "      <td>11.000000</td>\n",
       "      <td>0.943195</td>\n",
       "    </tr>\n",
       "    <tr>\n",
       "      <th>max</th>\n",
       "      <td>1891.000000</td>\n",
       "      <td>6.000000</td>\n",
       "      <td>6.000000</td>\n",
       "      <td>11.000000</td>\n",
       "      <td>3.835320</td>\n",
       "      <td>3569.000000</td>\n",
       "      <td>12.000000</td>\n",
       "      <td>1.804273</td>\n",
       "    </tr>\n",
       "  </tbody>\n",
       "</table>\n",
       "</div>"
      ],
      "text/plain": [
       "       cap-diameter     cap-shape  gill-attachment    gill-color  \\\n",
       "count  43228.000000  43228.000000     43228.000000  43228.000000   \n",
       "mean     567.675442      3.994795         2.138267      7.324859   \n",
       "std      360.584357      2.162429         2.228573      3.201606   \n",
       "min        0.000000      0.000000         0.000000      0.000000   \n",
       "25%      289.000000      2.000000         0.000000      5.000000   \n",
       "50%      526.000000      5.000000         1.000000      7.000000   \n",
       "75%      782.000000      6.000000         4.000000     10.000000   \n",
       "max     1891.000000      6.000000         6.000000     11.000000   \n",
       "\n",
       "        stem-height    stem-width    stem-color        season  \n",
       "count  43228.000000  43228.000000  43228.000000  43228.000000  \n",
       "mean       0.759497   1052.557116      8.420561      0.951277  \n",
       "std        0.652320    783.231965      3.261763      0.304490  \n",
       "min        0.000426      0.000000      0.000000      0.027372  \n",
       "25%        0.270997    421.000000      6.000000      0.888450  \n",
       "50%        0.593295    925.000000     11.000000      0.943195  \n",
       "75%        1.054858   1527.000000     11.000000      0.943195  \n",
       "max        3.835320   3569.000000     12.000000      1.804273  "
      ]
     },
     "execution_count": 5,
     "metadata": {},
     "output_type": "execute_result"
    }
   ],
   "source": [
    "X_train.describe()"
   ]
  },
  {
   "cell_type": "code",
   "execution_count": 6,
   "id": "0cb0e5ba",
   "metadata": {},
   "outputs": [
    {
     "data": {
      "text/plain": [
       "0    1\n",
       "1    1\n",
       "2    1\n",
       "3    1\n",
       "4    1\n",
       "Name: class, dtype: int64"
      ]
     },
     "execution_count": 6,
     "metadata": {},
     "output_type": "execute_result"
    }
   ],
   "source": [
    "labels.head()"
   ]
  },
  {
   "cell_type": "code",
   "execution_count": 7,
   "id": "49d9eef6",
   "metadata": {},
   "outputs": [
    {
     "data": {
      "image/png": "[encoded data removed]",
      "text/plain": [
       "<Figure size 640x480 with 2 Axes>"
      ]
     },
     "metadata": {},
     "output_type": "display_data"
    }
   ],
   "source": [
    "import seaborn as sns\n",
    "import matplotlib.pyplot as plt\n",
    "\n",
    "corr_matrix =  mush_df.corr()\n",
    "\n",
    "# Generate a heatmap of the correlation matrix\n",
    "sns.heatmap(corr_matrix, annot=True, cmap='coolwarm', fmt=\".2f\", linewidths=0.5)\n",
    "\n",
    "# Add a title\n",
    "plt.title('Correlation Matrix of All Features')\n",
    "\n",
    "# Adjust layout\n",
    "plt.tight_layout()\n",
    "\n",
    "# Show plot\n",
    "plt.show()"
   ]
  },
  {
   "cell_type": "markdown",
   "id": "c96e444e",
   "metadata": {},
   "source": [
    "The correlation matrix indicates that no single variable is a good predictor of the class."
   ]
  },
  {
   "cell_type": "code",
   "execution_count": 8,
   "id": "6d893d5f",
   "metadata": {},
   "outputs": [
    {
     "data": {
      "image/png": "[encoded data removed]",
      "text/plain": [
       "<Figure size 640x480 with 1 Axes>"
      ]
     },
     "metadata": {},
     "output_type": "display_data"
    }
   ],
   "source": [
    "mush_df['class'].hist(bins=2, color='blue', edgecolor='black', alpha=0.5, grid=False)\n",
    "plt.show()"
   ]
  },
  {
   "cell_type": "markdown",
   "id": "f4a2c7b4",
   "metadata": {},
   "source": [
    "Showing a histogram for class shows that the mushrooms are slightly more likely to be poisonous than not although the proportions are fairly even. "
   ]
  },
  {
   "cell_type": "markdown",
   "id": "0fbe4794",
   "metadata": {},
   "source": [
    "## Preprocessing"
   ]
  },
  {
   "cell_type": "markdown",
   "id": "806c9d84",
   "metadata": {},
   "source": [
    "In this case all of our data is of the numeric data type, we only need to create a num_pipeline"
   ]
  },
  {
   "cell_type": "code",
   "execution_count": 9,
   "id": "5d61bfea",
   "metadata": {},
   "outputs": [],
   "source": [
    "from sklearn.pipeline import Pipeline\n",
    "from sklearn.preprocessing import StandardScaler\n",
    "from sklearn.compose import ColumnTransformer\n",
    "\n",
    "# create an object that is a list of only the numeric columns in our data\n",
    "num_indices = X_train[attributes].select_dtypes(include=['int64', 'float64']).columns\n",
    "\n",
    "num_pipeline = Pipeline([\n",
    "    ('scaler', StandardScaler())  # scales continuous data\n",
    "])\n",
    "\n",
    "preprocessing = ColumnTransformer([\n",
    "    (\"numeric\", num_pipeline, num_indices),\n",
    "])\n",
    "\n",
    "\n",
    "X_train_prepared = preprocessing.fit_transform(X_train)\n",
    "X_test_prepared = preprocessing.transform(X_test)"
   ]
  },
  {
   "cell_type": "markdown",
   "id": "ac392b2f",
   "metadata": {},
   "source": [
    "## Create Model, Print Results"
   ]
  },
  {
   "cell_type": "code",
   "execution_count": 10,
   "id": "7c6e2fbe",
   "metadata": {},
   "outputs": [
    {
     "name": "stdout",
     "output_type": "stream",
     "text": [
      "RF Cross-Validation Scores: [0.98970622 0.98993754 0.9894749  0.98773858 0.98773858]\n",
      "Average Cross-Validation Score: 0.9889191644032944\n",
      "Training Accuracy: 1.0\n",
      "Testing Accuracy: 0.9908392708429722\n",
      "Classification Report for Test Data (Random Forest):\n",
      "              precision    recall  f1-score   support\n",
      "\n",
      "           0       0.99      0.99      0.99      4909\n",
      "           1       0.99      0.99      0.99      5898\n",
      "\n",
      "    accuracy                           0.99     10807\n",
      "   macro avg       0.99      0.99      0.99     10807\n",
      "weighted avg       0.99      0.99      0.99     10807\n",
      "\n"
     ]
    },
    {
     "data": {
      "image/png": "[encoded data removed]",
      "text/plain": [
       "<Figure size 800x600 with 1 Axes>"
      ]
     },
     "metadata": {},
     "output_type": "display_data"
    }
   ],
   "source": [
    "from sklearn.metrics import confusion_matrix\n",
    "import seaborn as sns\n",
    "import matplotlib.pyplot as plt\n",
    "from sklearn.linear_model import LogisticRegression\n",
    "from sklearn.model_selection import cross_val_score\n",
    "from sklearn.metrics import classification_report\n",
    "from sklearn.ensemble import RandomForestClassifier\n",
    "\n",
    "# Create a Random Forest model\n",
    "class_model = RandomForestClassifier(n_estimators=100, random_state=42)\n",
    "\n",
    "# Train the model on the training data\n",
    "class_model.fit(X_train_prepared, y_train)\n",
    "\n",
    "# Use the trained model to predict the labels of X_train\n",
    "class_train = class_model.predict(X_train_prepared)\n",
    "class_test = class_model.predict(X_test_prepared)\n",
    "\n",
    "# Perform cross-validation on the training data\n",
    "cv_scores = cross_val_score(class_model, X_train_prepared, y_train, cv=5)\n",
    "\n",
    "# Evaluate the model\n",
    "# compute accuracy on the training data\n",
    "accuracy_train = class_model.score(X_train_prepared, y_train)\n",
    "accuracy_test = class_model.score(X_test_prepared, y_test)\n",
    "\n",
    "\n",
    "print(\"RF Cross-Validation Scores:\", cv_scores)\n",
    "print(\"Average Cross-Validation Score:\", cv_scores.mean())\n",
    "print(\"Training Accuracy:\", accuracy_train)\n",
    "print(\"Testing Accuracy:\", accuracy_test)\n",
    "\n",
    "# Generate classification report for test data\n",
    "classification_report_rf = classification_report(y_test, class_test)\n",
    "print(\"Classification Report for Test Data (Random Forest):\")\n",
    "print(classification_report_rf)\n",
    "\n",
    "\n",
    "# Compute confusion matrix\n",
    "conf_matrix_rf = confusion_matrix(y_test, class_test)\n",
    "\n",
    "# Plot confusion matrix\n",
    "plt.figure(figsize=(8, 6))\n",
    "sns.heatmap(conf_matrix_rf, annot=True, fmt=\"d\", cmap=\"Blues\", cbar=False)\n",
    "plt.xlabel('Predicted labels')\n",
    "plt.ylabel('True labels')\n",
    "plt.title('Confusion Matrix Random Forest Testing')\n",
    "plt.show()"
   ]
  },
  {
   "cell_type": "markdown",
   "id": "d3ed5d7c",
   "metadata": {},
   "source": [
    "## Analyze Results"
   ]
  },
  {
   "cell_type": "markdown",
   "id": "21cf1de1",
   "metadata": {},
   "source": [
    "The model correctly labeled 4,856 mushrooms as safe, and would have mislabeled as safe, 46 poisonous mushrooms. Even given that 46 poisonous mushrooms slipped through, statistically our random forest regression model does a pretty good job with a 99% accuracy rate.  Still, given the significant downside of misclassifying a poisonous mushroom as safe, we may want to further reduce this particular mislabeling by prioritizing recall over precision. In this case prioritizing recall means wasting some good mushrooms (accepting more false positives) in order to recommend less poisonous mushrooms (accept less false negatives)."
   ]
  },
  {
   "cell_type": "markdown",
   "id": "173c022e",
   "metadata": {},
   "source": [
    "## Fine Tuning"
   ]
  },
  {
   "cell_type": "markdown",
   "id": "f9a3ae21",
   "metadata": {},
   "source": [
    "If we are in a scenario where (1) mushrooms are plentiful and (2) you'd never want to eat a poisonous mushroom, then there is a relatively low penalty for throwing out some % of edible but suspicious mushrooms just to be on the safe side. With this understanding, we can fine tune our model based on our situation. Our model will be optimized for our situation then if it can recommend only safe mushrooms without disqualifying an exorbitant number of edible mushrooms. \n",
    "\n",
    "We will primarily look at our results through the lens of a Confusion Matrix like the one above, and when analyzing our confusion matrices we will be primarily concerned with the left side of the matrix. The upper left quadrant represents mushrooms that the model correctly labeled as edible. The lower left quadrant represents mushrooms the model has mislabeled as edible (which are actually poisonous). The sweet spot for our model then will be returning a 0 in the lower left quadrant while also returning some reasonable number in the upper left quadrant. We can mostly ignore the right side of our confusion matrix, the right side of the matrix represents mushrooms that are ostensibly poisonous.  "
   ]
  },
  {
   "cell_type": "markdown",
   "id": "c1aa77a9",
   "metadata": {},
   "source": [
    "### Optimize Threshold for Our Purpose"
   ]
  },
  {
   "cell_type": "markdown",
   "id": "7c0c2ea9",
   "metadata": {},
   "source": [
    "For binary classification, instances classified with probabilities above our threshold are classified as positive (poisonous), and those below are classified as negative (safe). Below we arrange to prioritize recall over precision by looping though all the possible thresholds and saving the threshold where accuracy is maximized.... A threshold value (0.02 in this case) is chosen to correctly label 3,329 edible mushrooms while allowing 0 poisonous mushrooms through the filter. We've increased recall at the cost of precision but this model is robust and even after maximizing recall our precision is still .789. Adjustments can be made as needed to prioritize either recall or precision, for example a threshold value of .03 would correctly label an additional 316 edible mushrooms while allowing 2 poisonous mushrooms to pass the filter."
   ]
  },
  {
   "cell_type": "code",
   "execution_count": 11,
   "id": "652d311f",
   "metadata": {},
   "outputs": [
    {
     "name": "stdout",
     "output_type": "stream",
     "text": [
      "Adjusted Precision: 0.788713559775341\n",
      "Adjusted Recall: 1.0\n",
      "Adjusted Accuracy: 0.8537984639585454\n"
     ]
    }
   ],
   "source": [
    "from sklearn.metrics import precision_score, recall_score, accuracy_score\n",
    "\n",
    "# 1. Obtain predicted probabilities\n",
    "probabilities = class_model.predict_proba(X_test_prepared)\n",
    "\n",
    "# 2. Choose a threshold (e.g., 0.5)\n",
    "threshold = 0.02\n",
    "# 3. Adjust predictions based on the threshold\n",
    "# probabilities[:, 1] = because the second column corresponds to the \"poisonous\" class (1 = poisonous, 0 = safe)\n",
    "adjusted_predictions = (probabilities[:, 1] > threshold).astype(int)\n",
    "\n",
    "# 4. Evaluate performance\n",
    "adjusted_precision = precision_score(y_test, adjusted_predictions)\n",
    "adjusted_recall = recall_score(y_test, adjusted_predictions)\n",
    "adjusted_accuracy = accuracy_score(y_test, adjusted_predictions)\n",
    "\n",
    "print(\"Adjusted Precision:\", adjusted_precision)\n",
    "print(\"Adjusted Recall:\", adjusted_recall)\n",
    "print(\"Adjusted Accuracy:\", adjusted_accuracy)\n"
   ]
  },
  {
   "cell_type": "code",
   "execution_count": 12,
   "id": "7e12d261",
   "metadata": {},
   "outputs": [],
   "source": [
    "# probabilities\n",
    "# adjusted_predictions"
   ]
  },
  {
   "cell_type": "markdown",
   "id": "ace7b3c1",
   "metadata": {},
   "source": [
    "### View Adjusted Results"
   ]
  },
  {
   "cell_type": "code",
   "execution_count": 13,
   "id": "a93fcec1",
   "metadata": {},
   "outputs": [
    {
     "data": {
      "image/png": "[encoded data removed]",
      "text/plain": [
       "<Figure size 800x600 with 1 Axes>"
      ]
     },
     "metadata": {},
     "output_type": "display_data"
    }
   ],
   "source": [
    "# Compute confusion matrix\n",
    "conf_matrix_rf = confusion_matrix(y_test, adjusted_predictions)\n",
    "\n",
    "# Plot confusion matrix\n",
    "plt.figure(figsize=(8, 6))\n",
    "sns.heatmap(conf_matrix_rf, annot=True, fmt=\"d\", cmap=\"Blues\", cbar=False)\n",
    "plt.xlabel('Predicted labels')\n",
    "plt.ylabel('True labels')\n",
    "plt.title('Confusion Matrix: Fine-Tuned Random Forest')\n",
    "plt.show()"
   ]
  },
  {
   "cell_type": "raw",
   "id": "4ec99f2b",
   "metadata": {},
   "source": [
    "The new model's overall accuracy was reduced from 99% to 85%, but our model is diminished only to err on the side of caution.  As we expected, the model will now throw out a larger number of edible mushrooms (as represented by the number in the top-right quadrant), but more importantly the adjusted model will not allow any poisonous mushrooms to pass the filter. Given the circumstances we described above, that mushrooms are plentiful but often poisonous, our tuned-in model is much better suited to our purpose.\n",
    "\n",
    "If our purpose was to apply the model more industrially, say perhaps there were multiple use cases with different tolerance levels for poisonous mushrooms passing the filter, then the model could be further adjusted to waste less edible mushrooms by increasing/decreasing the threshold value on a case by case basis."
   ]
  },
  {
   "cell_type": "code",
   "execution_count": null,
   "id": "80c941f9",
   "metadata": {},
   "outputs": [],
   "source": []
  },
  {
   "cell_type": "code",
   "execution_count": null,
   "id": "0affa5bc",
   "metadata": {},
   "outputs": [],
   "source": []
  },
  {
   "cell_type": "code",
   "execution_count": null,
   "id": "e65ff25c",
   "metadata": {},
   "outputs": [],
   "source": []
  },
  {
   "cell_type": "code",
   "execution_count": null,
   "id": "55bf2b8c",
   "metadata": {},
   "outputs": [],
   "source": []
  },
  {
   "cell_type": "code",
   "execution_count": null,
   "id": "01497a0f",
   "metadata": {},
   "outputs": [],
   "source": []
  },
  {
   "cell_type": "code",
   "execution_count": null,
   "id": "11afff22",
   "metadata": {},
   "outputs": [],
   "source": []
  },
  {
   "cell_type": "code",
   "execution_count": null,
   "id": "6af5dc5a",
   "metadata": {},
   "outputs": [],
   "source": []
  },
  {
   "cell_type": "markdown",
   "id": "c17f95da",
   "metadata": {},
   "source": [
    "# Apply a preprocessor to predict any variable in the set based on remaining variables"
   ]
  },
  {
   "cell_type": "markdown",
   "id": "ad794bfc",
   "metadata": {},
   "source": [
    "# Data Preprocessing Function"
   ]
  },
  {
   "cell_type": "code",
   "execution_count": 14,
   "id": "d6d29919",
   "metadata": {},
   "outputs": [],
   "source": [
    "from sklearn.model_selection import train_test_split\n",
    "from sklearn.preprocessing import StandardScaler\n",
    "from sklearn.linear_model import LinearRegression, LogisticRegression\n",
    "\n",
    "def preprocess_train(df, target, task):\n",
    "    df = df.copy()\n",
    "    \n",
    "    \n",
    "    # to create a new series composed of our targets\n",
    "    y = df[target].copy()\n",
    "    # to drop our target column and resave without the target column\n",
    "    X = df.drop(target, axis=1)\n",
    "\n",
    "    # create a training and a test set\n",
    "    X_train, X_test, y_train, y_test = train_test_split(X, y,  test_size=0.2, random_state=42)\n",
    "\n",
    "    # scale the data, give each column a similar round of values\n",
    "    scaler = StandardScaler()\n",
    "    scaler.fit(X_train)  \n",
    "    \n",
    "    # transform the features using the scaler\n",
    "    X_train_scaled = scaler.transform(X_train)\n",
    "    X_test_scaled = scaler.transform(X_test)\n",
    "    # Convert scaled arrays back to DataFrame\n",
    "    X_train = pd.DataFrame(X_train_scaled, columns=X_train.columns)\n",
    "    X_test = pd.DataFrame(X_test_scaled, columns=X_test.columns)\n",
    "    \n",
    "    # Create the model\n",
    "    if task == 'regression':\n",
    "        model = LinearRegression()\n",
    "    elif task == 'classification':\n",
    "        model = LogisticRegression()\n",
    "    \n",
    "    # fit the model\n",
    "    model.fit(X_train, y_train)\n",
    "    \n",
    "    # Return test results\n",
    "    return model.score(X_test, y_test)"
   ]
  },
  {
   "cell_type": "code",
   "execution_count": 15,
   "id": "ffb3b254",
   "metadata": {},
   "outputs": [],
   "source": [
    "results = preprocess_train(mush_df, 'class', 'classification')"
   ]
  },
  {
   "cell_type": "code",
   "execution_count": 16,
   "id": "63623d58",
   "metadata": {},
   "outputs": [
    {
     "name": "stdout",
     "output_type": "stream",
     "text": [
      "Classification Test Results for Class: 63.65%\n"
     ]
    }
   ],
   "source": [
    "print(\"Classification Test Results for Class: {:.2f}%\".format(results * 100))"
   ]
  },
  {
   "cell_type": "code",
   "execution_count": 17,
   "id": "9b5ac128",
   "metadata": {},
   "outputs": [],
   "source": [
    "results = preprocess_train(mush_df, 'cap-diameter', 'regression')"
   ]
  },
  {
   "cell_type": "code",
   "execution_count": 18,
   "id": "f6efd21f",
   "metadata": {},
   "outputs": [
    {
     "name": "stdout",
     "output_type": "stream",
     "text": [
      "Regression Test Results for cap-diameter: 69.56%\n"
     ]
    }
   ],
   "source": [
    "print(\"Regression Test Results for cap-diameter: {:.2f}%\".format(results * 100))"
   ]
  },
  {
   "cell_type": "code",
   "execution_count": 19,
   "id": "262562a0",
   "metadata": {},
   "outputs": [],
   "source": [
    "results = preprocess_train(mush_df, 'cap-shape', 'classification')"
   ]
  },
  {
   "cell_type": "code",
   "execution_count": 20,
   "id": "92f5b918",
   "metadata": {},
   "outputs": [
    {
     "name": "stdout",
     "output_type": "stream",
     "text": [
      "Classification Test Results for cap-shape: 46.90%\n"
     ]
    }
   ],
   "source": [
    "print(\"Classification Test Results for cap-shape: {:.2f}%\".format(results * 100))"
   ]
  },
  {
   "cell_type": "code",
   "execution_count": 21,
   "id": "5e192555",
   "metadata": {},
   "outputs": [],
   "source": [
    "results = preprocess_train(mush_df, 'gill-attachment', 'classification')"
   ]
  },
  {
   "cell_type": "code",
   "execution_count": 22,
   "id": "4e466793",
   "metadata": {},
   "outputs": [
    {
     "name": "stdout",
     "output_type": "stream",
     "text": [
      "Classification Test Results for gill-attachment: 46.01%\n"
     ]
    }
   ],
   "source": [
    "print(\"Classification Test Results for gill-attachment: {:.2f}%\".format(results * 100))"
   ]
  },
  {
   "cell_type": "code",
   "execution_count": 23,
   "id": "4a7f59c1",
   "metadata": {},
   "outputs": [],
   "source": [
    "results = preprocess_train(mush_df, 'gill-color', 'classification')"
   ]
  },
  {
   "cell_type": "code",
   "execution_count": 24,
   "id": "3aa34737",
   "metadata": {},
   "outputs": [
    {
     "name": "stdout",
     "output_type": "stream",
     "text": [
      "Classification Test Results for gill-color: 35.60%\n"
     ]
    }
   ],
   "source": [
    "print(\"Classification Test Results for gill-color: {:.2f}%\".format(results * 100))"
   ]
  },
  {
   "cell_type": "code",
   "execution_count": 25,
   "id": "4c1d6e33",
   "metadata": {},
   "outputs": [],
   "source": [
    "results = preprocess_train(mush_df, 'stem-height', 'regression')"
   ]
  },
  {
   "cell_type": "code",
   "execution_count": 26,
   "id": "ce188339",
   "metadata": {},
   "outputs": [
    {
     "name": "stdout",
     "output_type": "stream",
     "text": [
      "Regression Test Results for stem-height: 7.09%\n"
     ]
    }
   ],
   "source": [
    "print(\"Regression Test Results for stem-height: {:.2f}%\".format(results * 100))"
   ]
  },
  {
   "cell_type": "code",
   "execution_count": 27,
   "id": "335eff13",
   "metadata": {},
   "outputs": [],
   "source": [
    "results = preprocess_train(mush_df, 'stem-width', 'regression')"
   ]
  },
  {
   "cell_type": "code",
   "execution_count": 28,
   "id": "0937ebcc",
   "metadata": {},
   "outputs": [
    {
     "name": "stdout",
     "output_type": "stream",
     "text": [
      "Regression Test Results for stem-width: 69.83%\n"
     ]
    }
   ],
   "source": [
    "print(\"Regression Test Results for stem-width: {:.2f}%\".format(results * 100))"
   ]
  },
  {
   "cell_type": "code",
   "execution_count": 29,
   "id": "444903e2",
   "metadata": {},
   "outputs": [
    {
     "name": "stderr",
     "output_type": "stream",
     "text": [
      "C:\\ProgramData\\anaconda3\\lib\\site-packages\\sklearn\\linear_model\\_logistic.py:458: ConvergenceWarning: lbfgs failed to converge (status=1):\n",
      "STOP: TOTAL NO. of ITERATIONS REACHED LIMIT.\n",
      "\n",
      "Increase the number of iterations (max_iter) or scale the data as shown in:\n",
      "    https://scikit-learn.org/stable/modules/preprocessing.html\n",
      "Please also refer to the documentation for alternative solver options:\n",
      "    https://scikit-learn.org/stable/modules/linear_model.html#logistic-regression\n",
      "  n_iter_i = _check_optimize_result(\n"
     ]
    }
   ],
   "source": [
    "results = preprocess_train(mush_df, 'stem-color', 'classification')"
   ]
  },
  {
   "cell_type": "code",
   "execution_count": 30,
   "id": "0c68cb1a",
   "metadata": {},
   "outputs": [
    {
     "name": "stdout",
     "output_type": "stream",
     "text": [
      "Classification Test Results for stem-color: 44.59%\n"
     ]
    }
   ],
   "source": [
    "print(\"Classification Test Results for stem-color: {:.2f}%\".format(results * 100))"
   ]
  },
  {
   "cell_type": "code",
   "execution_count": 31,
   "id": "63504a28",
   "metadata": {},
   "outputs": [],
   "source": [
    "results = preprocess_train(mush_df, 'season', 'regression')"
   ]
  },
  {
   "cell_type": "code",
   "execution_count": 32,
   "id": "d3aa09c1",
   "metadata": {},
   "outputs": [
    {
     "name": "stdout",
     "output_type": "stream",
     "text": [
      "Regression Test Results for season: 3.35%\n"
     ]
    }
   ],
   "source": [
    "print(\"Regression Test Results for season: {:.2f}%\".format(results * 100))"
   ]
  }
 ],
 "metadata": {
  "kernelspec": {
   "display_name": "Python 3 (ipykernel)",
   "language": "python",
   "name": "python3"
  },
  "language_info": {
   "codemirror_mode": {
    "name": "ipython",
    "version": 3
   },
   "file_extension": ".py",
   "mimetype": "text/x-python",
   "name": "python",
   "nbconvert_exporter": "python",
   "pygments_lexer": "ipython3",
   "version": "3.10.9"
  }
 },
 "nbformat": 4,
 "nbformat_minor": 5
}
